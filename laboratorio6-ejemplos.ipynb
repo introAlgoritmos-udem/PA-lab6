{
 "cells": [
  {
   "cell_type": "markdown",
   "id": "cdc1baa4",
   "metadata": {},
   "source": [
    "[![Open In Colab](https://colab.research.google.com/assets/colab-badge.svg)](https://colab.research.google.com/github/introAlgoritmos-udem/PA-lab5/blob/main/laboratorio5-ejemplos.ipynb)"
   ]
  },
  {
   "cell_type": "markdown",
   "id": "9342b411",
   "metadata": {},
   "source": [
    "# Arreglos\n",
    "\n",
    "## Definición\n",
    "\n",
    "**En construcción**: Ver notas de clase\n"
   ]
  },
  {
   "cell_type": "markdown",
   "id": "323f6552",
   "metadata": {},
   "source": [
    "## Ejemplos"
   ]
  },
  {
   "cell_type": "markdown",
   "id": "a6616e8e",
   "metadata": {},
   "source": [
    "#### Ejemplo 1\n",
    "\n",
    "Hacer una función que sume los elementos de una lista ([Solución paso a paso](https://pythontutor.com/visualize.html#code=%22%22%22%20Definicion%20de%20funciones%20%22%22%22%0A%0Adef%20sumarElem%28l%3A%20list%29%20-%3E%20int%3A%0A%20%20%20%20s%20%3D%200%0A%20%20%20%20for%20x%20in%20l%3A%0A%20%20%20%20%20%20%20%20s%20%2B%3D%20x%20%23%20s%20%3D%20s%20%2B%20x%20%0A%20%20%20%20return%20s%0A%20%20%20%20%0A%0Adef%20test_sumarElem%28%29%3A%0A%20%20%20%20print%28sumarElem%28%5B1,0,2,3%5D%29%29%0A%20%20%20%20M%20%3D%20%5B1,2,-4,5,8,3%5D%0A%20%20%20%20print%28sumarElem%28M%29%29%0A%0A%0A%22%22%22%20Prueba%20%20%22%22%22%0Atest_sumarElem%28%29&cumulative=false&curInstr=0&heapPrimitives=nevernest&mode=display&origin=opt-frontend.js&py=3&rawInputLstJSON=%5B%5D&textReferences=false))"
   ]
  },
  {
   "cell_type": "code",
   "execution_count": 1,
   "id": "e91b38a1",
   "metadata": {},
   "outputs": [
    {
     "name": "stdout",
     "output_type": "stream",
     "text": [
      "6\n",
      "15\n"
     ]
    }
   ],
   "source": [
    "\"\"\" Definicion de funciones \"\"\"\n",
    "\n",
    "def sumarElem(l: list) -> int:\n",
    "    s = 0\n",
    "    for x in l:\n",
    "        s += x # s = s + x \n",
    "    return s\n",
    "    \n",
    "\n",
    "def test_sumarElem():\n",
    "    print(sumarElem([1,0,2,3]))\n",
    "    M = [1,2,-4,5,8,3]\n",
    "    print(sumarElem(M))\n",
    "\n",
    "\n",
    "\"\"\" Invocación de las funciones \"\"\"\n",
    "test_sumarElem()"
   ]
  },
  {
   "cell_type": "markdown",
   "id": "8ecca878",
   "metadata": {},
   "source": [
    "#### Ejemplo 2\n",
    "\n",
    "Hacer una función que obtenga el promedio de una lista:\n",
    "* [Solución 1](https://pythontutor.com/visualize.html#code=%22%22%22%20Definicion%20de%20funciones%20%22%22%22%0A%0Adef%20promLista%28L%3A%20list%29%20-%3E%20float%3A%0A%20%20%20%20s%20%3D%200%0A%20%20%20%20for%20i%20in%20range%28len%28L%29%29%3A%0A%20%20%20%20%20%20%20%20s%20%2B%3D%20L%5Bi%5D%20%23%20s%20%3D%20s%20%2B%20l%5Bi%5D%20%0A%20%20%20%20p%20%3D%20s/len%28L%29%0A%20%20%20%20return%20p%0A%20%20%20%20%0A%0Adef%20test_promLista%28%29%3A%0A%20%20%20%20print%28promLista%28%5B1,0,3,2%5D%29%29%0A%20%20%20%20M%20%3D%20%5B1,2,-4,5,8,3%5D%0A%20%20%20%20print%28promLista%28M%29%29%0A%20%20%20%20%0A%0A%0A%22%22%22%20Prueba%20%20%22%22%22%0Atest_promLista%28%29&cumulative=false&curInstr=0&heapPrimitives=nevernest&mode=display&origin=opt-frontend.js&py=3&rawInputLstJSON=%5B%5D&textReferences=false): Esta no aprovecha el reuso.\n",
    "* [Solución 2](https://pythontutor.com/visualize.html#code=%22%22%22%20Definicion%20de%20funciones%20%22%22%22%0A%0Adef%20sumarElem%28l%3A%20list%29%20-%3E%20int%3A%0A%20%20%20%20s%20%3D%200%0A%20%20%20%20for%20x%20in%20l%3A%0A%20%20%20%20%20%20%20%20s%20%2B%3D%20x%20%23%20s%20%3D%20s%20%2B%20x%20%0A%20%20%20%20return%20s%0A%20%20%20%20%0Adef%20promLista%28L%3A%20list%29%20-%3E%20float%3A%20%20%20%20%0A%20%20%20%20s%20%3D%20sumarElem%28L%29%0A%20%20%20%20p%20%3D%20s/len%28L%29%0A%20%20%20%20return%20p%0A%20%20%20%20%0Adef%20test_promLista%28%29%3A%0A%20%20%20%20print%28promLista%28%5B1,0,3,2%5D%29%29%0A%20%20%20%20M%20%3D%20%5B1,2,-4,5,8,3%5D%0A%20%20%20%20print%28promLista%28M%29%29%0A%20%20%20%20%0A%22%22%22%20Prueba%20%20%22%22%22%0Atest_promLista%28%29&cumulative=false&curInstr=0&heapPrimitives=nevernest&mode=display&origin=opt-frontend.js&py=3&rawInputLstJSON=%5B%5D&textReferences=false): Esta implementación es mejor por que aprovecha el reuso"
   ]
  },
  {
   "cell_type": "markdown",
   "id": "acebb766",
   "metadata": {},
   "source": [
    "**Solución 1**:"
   ]
  },
  {
   "cell_type": "code",
   "execution_count": 2,
   "id": "737fd8df",
   "metadata": {},
   "outputs": [
    {
     "name": "stdout",
     "output_type": "stream",
     "text": [
      "1.5\n",
      "2.5\n"
     ]
    }
   ],
   "source": [
    "\"\"\" Definicion de funciones \"\"\"\n",
    "\n",
    "def promLista(L: list) -> float:\n",
    "    s = 0\n",
    "    for i in range(len(L)):\n",
    "        s += L[i] # s = s + l[i] \n",
    "    p = s/len(L)\n",
    "    return p\n",
    "    \n",
    "\n",
    "def test_promLista():\n",
    "    print(promLista([1,0,3,2]))\n",
    "    M = [1,2,-4,5,8,3]\n",
    "    print(promLista(M))\n",
    "    \n",
    "\"\"\" Invocación de funciones \"\"\"\n",
    "test_promLista()"
   ]
  },
  {
   "cell_type": "markdown",
   "id": "de109f86",
   "metadata": {},
   "source": [
    "**Solución 2**:"
   ]
  },
  {
   "cell_type": "code",
   "execution_count": 3,
   "id": "7cef6de1",
   "metadata": {},
   "outputs": [
    {
     "name": "stdout",
     "output_type": "stream",
     "text": [
      "1.5\n",
      "2.5\n"
     ]
    }
   ],
   "source": [
    "\"\"\" Definicion de funciones \"\"\"\n",
    "\n",
    "def sumarElem(l: list) -> int:\n",
    "    s = 0\n",
    "    for x in l:\n",
    "        s += x # s = s + x \n",
    "    return s\n",
    "    \n",
    "def promLista(L: list) -> float:    \n",
    "    s = sumarElem(L)\n",
    "    p = s/len(L)\n",
    "    return p\n",
    "    \n",
    "def test_promLista():\n",
    "    print(promLista([1,0,3,2]))\n",
    "    M = [1,2,-4,5,8,3]\n",
    "    print(promLista(M))\n",
    "    \n",
    "\"\"\" Invocación de funciones \"\"\"\n",
    "test_promLista()"
   ]
  },
  {
   "cell_type": "markdown",
   "id": "1eb86512",
   "metadata": {},
   "source": [
    "#### Ejemplo 3\n",
    "\n",
    "Hacer una función de retorne la suma de dos listas del mismo tamaño ([Solución paso a paso](https://pythontutor.com/visualize.html#code=%22%22%22%20Definicion%20de%20funciones%20%22%22%22%0A%0A%23%20Hacer%20una%20funci%C3%B3n%20de%20retorne%20la%20suma%20de%20dos%20listas%0Adef%20sumarListas%28L1%3A%20list,%20L2%3A%20list%29%20-%3E%20list%3A%0A%20%20%20%20if%20%28len%28L1%29%20%3D%3D%20len%28L2%29%29%3A%0A%20%20%20%20%20%20%20%20s%20%3D%20len%28L1%29*%5B0%5D%0A%20%20%20%20%20%20%20%20for%20i%20in%20range%28len%28L1%29%29%3A%0A%20%20%20%20%20%20%20%20%20%20%20%20s%5Bi%5D%20%3D%20L1%5Bi%5D%20%2B%20L2%5Bi%5D%0A%20%20%20%20%20%20%20%20return%20s%0A%20%20%20%20else%3A%0A%20%20%20%20%20%20%20%20print%28%22ERROR%3A%20los%20arreglos%20deben%20tener%20el%20mismo%20tama%C3%B1o%22%29%0A%20%20%20%20%20%20%20%20return%20None%0A%0A%20%20%20%20%0Adef%20test_sumarListas%28%29%3A%0A%20%20%20%20A%20%3D%20%5B1,%202,%203,%204%5D%0A%20%20%20%20B%20%3D%20%5B2,%200,%203,%208%5D%0A%20%20%20%20C%20%3D%20sumarListas%28A,%20B%29%0A%20%20%20%20print%28A%29%0A%20%20%20%20print%28B%29%0A%20%20%20%20print%28%22--------------------%22%29%0A%20%20%20%20print%28C%29%0A%20%20%20%20print%28sumarListas%28%5B1,2,3%5D,%5B2,-1,1%5D%29%29%0A%20%20%20%20print%28sumarListas%28%5B1,2,3%5D,%5B2,-1%5D%29%29%0A%20%20%20%20%0A%22%22%22%20Prueba%20%20%22%22%22%0Atest_sumarListas%28%29&cumulative=false&curInstr=0&heapPrimitives=nevernest&mode=display&origin=opt-frontend.js&py=3&rawInputLstJSON=%5B%5D&textReferences=false))"
   ]
  },
  {
   "cell_type": "code",
   "execution_count": 4,
   "id": "ef979b15",
   "metadata": {},
   "outputs": [
    {
     "name": "stdout",
     "output_type": "stream",
     "text": [
      "[1, 2, 3, 4]\n",
      "[2, 0, 3, 8]\n",
      "--------------------\n",
      "[3, 2, 6, 12]\n",
      "[3, 1, 4]\n",
      "ERROR: los arreglos deben tener el mismo tamaño\n",
      "None\n"
     ]
    }
   ],
   "source": [
    "\"\"\" Definicion de funciones \"\"\"\n",
    "\n",
    "# Hacer una función de retorne la suma de dos listas\n",
    "def sumarListas(L1: list, L2: list) -> list:\n",
    "    if (len(L1) == len(L2)):\n",
    "        s = len(L1)*[0]\n",
    "        for i in range(len(L1)):\n",
    "            s[i] = L1[i] + L2[i]\n",
    "        return s\n",
    "    else:\n",
    "        print(\"ERROR: los arreglos deben tener el mismo tamaño\")\n",
    "        return None\n",
    "\n",
    "    \n",
    "def test_sumarListas():\n",
    "    A = [1, 2, 3, 4]\n",
    "    B = [2, 0, 3, 8]\n",
    "    C = sumarListas(A, B)\n",
    "    print(A)\n",
    "    print(B)\n",
    "    print(\"--------------------\")\n",
    "    print(C)\n",
    "    print(sumarListas([1,2,3],[2,-1,1]))\n",
    "    print(sumarListas([1,2,3],[2,-1]))\n",
    "    \n",
    "\"\"\" Invocación de funciones \"\"\"\n",
    "test_sumarListas()"
   ]
  },
  {
   "cell_type": "markdown",
   "id": "6025c59c",
   "metadata": {},
   "source": [
    "#### Ejemplo 4\n",
    "\n",
    "Hacer una función que obtenga el mayor de una lista ([Solución paso a paso](https://pythontutor.com/visualize.html#code=%22%22%22%20Definicion%20de%20funciones%20%22%22%22%0A%0A%23%20Hacer%20una%20funci%C3%B3n%20que%20obtenga%20el%20mayor%20de%20una%20lista%0Adef%20obtenerMayor%28L%3A%20list%29%20-%3E%20float%3A%0A%20%20%20%20may%20%3D%20L%5B0%5D%0A%20%20%20%20for%20i%20in%20range%281,len%28L%29%29%3A%0A%20%20%20%20%20%20%20%20if%28L%5Bi%5D%20%3E%20may%29%3A%0A%20%20%20%20%20%20%20%20%20%20%20%20may%20%3D%20L%5Bi%5D%0A%20%20%20%20return%20may%0A%0A%20%20%20%20%0Adef%20test_obtenerMayor%28%29%3A%0A%20%20%20%20print%28obtenerMayor%28%5B2,3,20,5,8%5D%29%29%0A%20%20%20%20%0A%22%22%22%20Prueba%20%20%22%22%22%0Atest_obtenerMayor%28%29&cumulative=false&curInstr=0&heapPrimitives=nevernest&mode=display&origin=opt-frontend.js&py=3&rawInputLstJSON=%5B%5D&textReferences=false))."
   ]
  },
  {
   "cell_type": "code",
   "execution_count": 5,
   "id": "703d594d",
   "metadata": {},
   "outputs": [
    {
     "name": "stdout",
     "output_type": "stream",
     "text": [
      "20\n"
     ]
    }
   ],
   "source": [
    "\"\"\" Definicion de funciones \"\"\"\n",
    "\n",
    "# Hacer una función que obtenga el mayor de una lista\n",
    "def obtenerMayor(L: list) -> float:\n",
    "    may = L[0]\n",
    "    for i in range(1,len(L)):\n",
    "        if(L[i] > may):\n",
    "            may = L[i]\n",
    "    return may\n",
    "\n",
    "    \n",
    "def test_obtenerMayor():\n",
    "    print(obtenerMayor([2,3,20,5,8]))\n",
    "    \n",
    "\"\"\" Invocación de funciones \"\"\"\n",
    "test_obtenerMayor()"
   ]
  },
  {
   "cell_type": "markdown",
   "id": "9186567c",
   "metadata": {},
   "source": [
    "#### Ejemplo 5\n",
    "\n",
    "Hacer una función que obtenga el menor de una lista ([Solución paso a paso](https://pythontutor.com/visualize.html#code=%22%22%22%20Definicion%20de%20funciones%20%22%22%22%0A%0A%23%20Hacer%20una%20funci%C3%B3n%20que%20obtenga%20el%20menor%20de%20una%20lista%0Adef%20obtenerMenor%28L%3A%20list%29%20-%3E%20float%3A%0A%20%20%20%20men%3D%20L%5B0%5D%0A%20%20%20%20for%20i%20in%20range%281,len%28L%29%29%3A%0A%20%20%20%20%20%20%20%20if%28L%5Bi%5D%20%3C%20men%29%3A%0A%20%20%20%20%20%20%20%20%20%20%20%20men%20%3D%20L%5Bi%5D%0A%20%20%20%20return%20men%0A%20%20%20%20%0Adef%20test_obtenerMenor%28%29%3A%0A%20%20%20%20print%28obtenerMenor%28%5B2,-3,20,5,8%5D%29%29%0A%20%20%20%20%0A%22%22%22%20Prueba%20%20%22%22%22%0Atest_obtenerMenor%28%29&cumulative=false&curInstr=0&heapPrimitives=nevernest&mode=display&origin=opt-frontend.js&py=3&rawInputLstJSON=%5B%5D&textReferences=false)).\n",
    "\n",
    "**Solución**\n"
   ]
  },
  {
   "cell_type": "code",
   "execution_count": 6,
   "id": "f85f9d88",
   "metadata": {},
   "outputs": [
    {
     "name": "stdout",
     "output_type": "stream",
     "text": [
      "-3\n"
     ]
    }
   ],
   "source": [
    "\"\"\" Definicion de funciones \"\"\"\n",
    "\n",
    "# Hacer una función que obtenga el menor de una lista\n",
    "def obtenerMenor(L: list) -> float:\n",
    "    men= L[0]\n",
    "    for i in range(1,len(L)):\n",
    "        if(L[i] < men):\n",
    "            men = L[i]\n",
    "    return men\n",
    "    \n",
    "def test_obtenerMenor():\n",
    "    print(obtenerMenor([2,-3,20,5,8]))\n",
    "    \n",
    "\"\"\" Invocación de funciones \"\"\"\n",
    "test_obtenerMenor()"
   ]
  },
  {
   "cell_type": "markdown",
   "id": "04e4d059",
   "metadata": {},
   "source": [
    "#### Ejemplo 6\n",
    "\n",
    "Hacer una función que debuelva una lista con el mayor y el menor ([Solución paso a paso](https://pythontutor.com/visualize.html#code=%0A%23%20Hacer%20una%20funci%C3%B3n%20que%20obtenga%20el%20mayor%20de%20una%20lista%0Adef%20obtenerMayor%28L%3A%20list%29%20-%3E%20float%3A%0A%20%20%20%20may%20%3D%20L%5B0%5D%0A%20%20%20%20for%20i%20in%20range%281,len%28L%29%29%3A%0A%20%20%20%20%20%20%20%20if%28L%5Bi%5D%20%3E%20may%29%3A%0A%20%20%20%20%20%20%20%20%20%20%20%20may%20%3D%20L%5Bi%5D%0A%20%20%20%20return%20may%0A%20%20%20%20%0A%23%20Hacer%20una%20funci%C3%B3n%20que%20obtenga%20el%20menor%20de%20una%20lista%0Adef%20obtenerMenor%28L%3A%20list%29%20-%3E%20float%3A%0A%20%20%20%20men%3D%20L%5B0%5D%0A%20%20%20%20for%20i%20in%20range%281,len%28L%29%29%3A%0A%20%20%20%20%20%20%20%20if%28L%5Bi%5D%20%3C%20men%29%3A%0A%20%20%20%20%20%20%20%20%20%20%20%20men%20%3D%20L%5Bi%5D%0A%20%20%20%20return%20men%0A%0A%23%20Obtiene%20los%20valores%20minimo%20y%20maximo%20de%20una%20lista%0Adef%20obtenerExtremos%28Lin%3A%20list%29%20-%3E%20list%3A%0A%20%20%20%20M%20%3D%20obtenerMayor%28Lin%29%0A%20%20%20%20m%20%3D%20obtenerMenor%28Lin%29%0A%20%20%20%20%23%20print%28m,M%29%0A%20%20%20%20Lout%20%3D%20%5Bm,%20M%5D%0A%20%20%20%20return%20Lout%0A%0A%0A%23%20Test%20obtenerExtremos%0A%0Adef%20test_obtenerExtremos%28%29%3A%0A%20%20%20%20A%20%3D%20%5B2,%203,-8.6,%205,%20-20,%2034.6,%2021.3,%204%5D%0A%20%20%20%20print%28A%29%0A%20%20%20%20ext%20%3D%20obtenerExtremos%28A%29%0A%20%20%20%20print%28ext%29%0A%0Atest_obtenerExtremos%28%29&cumulative=false&curInstr=0&heapPrimitives=nevernest&mode=display&origin=opt-frontend.js&py=3&rawInputLstJSON=%5B%5D&textReferences=false))."
   ]
  },
  {
   "cell_type": "code",
   "execution_count": 8,
   "id": "a8337931",
   "metadata": {},
   "outputs": [
    {
     "name": "stdout",
     "output_type": "stream",
     "text": [
      "[2, 3, -8.6, 5, -20, 34.6, 21.3, 4]\n",
      "[-20, 34.6]\n",
      "[2, 3, -8.6, 5, -20, 34.6, 21.3, 4]\n",
      "[-20, 34.6]\n"
     ]
    }
   ],
   "source": [
    "\"\"\" Definicion de funciones \"\"\"\n",
    "# Hacer una función que obtenga el mayor de una lista\n",
    "def obtenerMayor(L: list) -> float:\n",
    "    may = L[0]\n",
    "    for i in range(1,len(L)):\n",
    "        if(L[i] > may):\n",
    "            may = L[i]\n",
    "    return may\n",
    "    \n",
    "# Hacer una función que obtenga el menor de una lista\n",
    "def obtenerMenor(L: list) -> float:\n",
    "    men= L[0]\n",
    "    for i in range(1,len(L)):\n",
    "        if(L[i] < men):\n",
    "            men = L[i]\n",
    "    return men\n",
    "\n",
    "# Obtiene los valores minimo y maximo de una lista\n",
    "def obtenerExtremos(Lin: list) -> list:\n",
    "    M = obtenerMayor(Lin)\n",
    "    m = obtenerMenor(Lin)\n",
    "    # print(m,M)\n",
    "    Lout = [m, M]\n",
    "    return Lout\n",
    "\n",
    "\n",
    "# Test obtenerExtremos\n",
    "\n",
    "def test_obtenerExtremos():\n",
    "    A = [2, 3,-8.6, 5, -20, 34.6, 21.3, 4]\n",
    "    print(A)\n",
    "    ext = obtenerExtremos(A)\n",
    "    print(ext)\n",
    "\n",
    "test_obtenerExtremos()\n",
    "\n",
    "\"\"\" Invocación de funciones \"\"\"\n",
    "test_obtenerExtremos()"
   ]
  },
  {
   "cell_type": "markdown",
   "id": "5f27f16e",
   "metadata": {},
   "source": [
    "#### Ejemplo 7\n",
    "\n",
    "Hacer una funcion que devuelva los elementos no repetidos de una lista ([Solución paso a paso](https://pythontutor.com/visualize.html#code=%22%22%22%20Definicion%20de%20funciones%20%22%22%22%0A%0Adef%20eliminarRepetidos%28Li%3A%20list%29%20-%3E%20list%3A%0A%20%20%20%20Lo%20%3D%20%5B%5D%0A%20%20%20%20%22%22%22%0A%20%20%20%20for%20i%20in%20range%28len%28Li%29%29%3A%0A%20%20%20%20%20%20%20%20if%20not%28Li%5Bi%5D%20in%20Lo%29%3A%0A%20%20%20%20%20%20%20%20%20%20%20%20Lo%20%2B%3D%20%5BLi%5Bi%5D%5D%20%20%20%20%0A%20%20%20%20%22%22%22%0A%20%20%20%20for%20e%20in%20Li%3A%0A%20%20%20%20%20%20%20%20if%20not%28e%20in%20Lo%29%3A%0A%20%20%20%20%20%20%20%20%20%20%20%20Lo%20%2B%3D%20%5Be%5D%0A%20%20%20%20%0A%20%20%20%20return%20Lo%0A%20%20%20%20%0AL%20%3D%20%5B2,2,4,5,7%5D%0AM%20%3D%20eliminarRepetidos%28L%29%0Aprint%28L%29%0Aprint%28M%29&cumulative=false&curInstr=0&heapPrimitives=nevernest&mode=display&origin=opt-frontend.js&py=3&rawInputLstJSON=%5B%5D&textReferences=false))."
   ]
  },
  {
   "cell_type": "code",
   "execution_count": 9,
   "id": "0ccbc955",
   "metadata": {},
   "outputs": [
    {
     "name": "stdout",
     "output_type": "stream",
     "text": [
      "[2, 2, 4, 5, 7]\n",
      "[2, 4, 5, 7]\n"
     ]
    }
   ],
   "source": [
    "\"\"\" Definicion de funciones \"\"\"\n",
    "\n",
    "def eliminarRepetidos(Li: list) -> list:\n",
    "    Lo = []\n",
    "    \"\"\"\n",
    "    for i in range(len(Li)):\n",
    "        if not(Li[i] in Lo):\n",
    "            Lo += [Li[i]]    \n",
    "    \"\"\"\n",
    "    for e in Li:\n",
    "        if not(e in Lo):\n",
    "            Lo += [e]\n",
    "    \n",
    "    return Lo\n",
    "\n",
    "\"\"\" Invocación de funciones \"\"\"\n",
    "L = [2,2,4,5,7]\n",
    "M = eliminarRepetidos(L)\n",
    "print(L)\n",
    "print(M)"
   ]
  },
  {
   "cell_type": "markdown",
   "id": "b244a4cd",
   "metadata": {},
   "source": [
    "#### Ejemplo 8\n",
    "\n",
    "Hacer una funcion que permita obtener el numero que mas se repite en una lista."
   ]
  },
  {
   "cell_type": "code",
   "execution_count": 18,
   "id": "2e5681a5",
   "metadata": {},
   "outputs": [
    {
     "name": "stdout",
     "output_type": "stream",
     "text": [
      "[2, 3, 2, -5, -5, 1, 1, 1, 1]\n",
      "[1]\n",
      "[2, 3, -5, -5, -5, 2, 1, 1, 1]\n",
      "[-5, 1]\n"
     ]
    }
   ],
   "source": [
    "\"\"\" Definición de funciones \"\"\"\n",
    "\n",
    "def eliminarRepetidos(Li: list) -> list:\n",
    "    Lo = []\n",
    "    for i in range(len(Li)):\n",
    "        if not(Li[i] in Lo):\n",
    "            Lo += [Li[i]]    \n",
    "    return Lo\n",
    "\n",
    "def contarElemento(e: float, L: list) -> int:\n",
    "    cnt = 0\n",
    "    for x in L:\n",
    "        if(e == x):\n",
    "            cnt += 1\n",
    "    return cnt\n",
    "            \n",
    "def obtenerModa(L: list) -> int:\n",
    "    Laux = eliminarRepetidos(L)\n",
    "    totalElementos = []\n",
    "    moda = []\n",
    "    for e in Laux:\n",
    "        totalElementos += [contarElemento(e, L)]\n",
    "    maximo = obtenerMayor(totalElementos)\n",
    "    for i in range(len(totalElementos)):\n",
    "        if (maximo == totalElementos[i]):\n",
    "            moda += [Laux[i]]\n",
    "    return moda \n",
    "\n",
    "\"\"\" Invocación de funciones \"\"\"\n",
    "A = [2, 3, 2, -5, -5, 1, 1, 1, 1]\n",
    "B = [2, 3, -5, -5, -5, 2, 1, 1, 1]\n",
    "print(A)\n",
    "print(obtenerModa(A))\n",
    "print(B)\n",
    "print(obtenerModa(B))\n"
   ]
  },
  {
   "cell_type": "markdown",
   "id": "2438483e",
   "metadata": {},
   "source": [
    "#### Ejemplo 9\n",
    "\n",
    "Hacer una funcion que devuelva una lista al reves."
   ]
  },
  {
   "cell_type": "code",
   "execution_count": 24,
   "id": "aae6f6a6",
   "metadata": {},
   "outputs": [
    {
     "name": "stdout",
     "output_type": "stream",
     "text": [
      "[2, 3, 2, -5, 0, 1, 4, 1, 1]\n",
      "[1, 1, 4, 1, 0, -5, 2, 3, 2]\n"
     ]
    }
   ],
   "source": [
    "\"\"\" Definicion de funciones \"\"\"\n",
    "def invertirLista(Li: list) -> list:\n",
    "    Lo = []\n",
    "    \"\"\"\n",
    "    for i in range(len(Li) - 1,-1,-1):\n",
    "        Lo += [Li[i]] \n",
    "    \"\"\"\n",
    "    for i in range(1,len(Li) + 1):\n",
    "        Lo += [Li[-i]] \n",
    "    return Lo\n",
    "\n",
    "\"\"\" Invocación de funciones \"\"\"\n",
    "A = [2, 3, 2, -5, 0, 1, 4, 1, 1]\n",
    "print(A)\n",
    "print(invertirLista(A))"
   ]
  },
  {
   "cell_type": "code",
   "execution_count": null,
   "id": "a7db7150",
   "metadata": {},
   "outputs": [],
   "source": []
  }
 ],
 "metadata": {
  "kernelspec": {
   "display_name": "Python 3",
   "language": "python",
   "name": "python3"
  },
  "language_info": {
   "codemirror_mode": {
    "name": "ipython",
    "version": 3
   },
   "file_extension": ".py",
   "mimetype": "text/x-python",
   "name": "python",
   "nbconvert_exporter": "python",
   "pygments_lexer": "ipython3",
   "version": "3.8.8"
  }
 },
 "nbformat": 4,
 "nbformat_minor": 5
}
